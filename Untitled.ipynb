{
 "cells": [
  {
   "cell_type": "code",
   "execution_count": 7,
   "id": "94333a1b",
   "metadata": {},
   "outputs": [],
   "source": [
    "import pandas as pd"
   ]
  },
  {
   "cell_type": "code",
   "execution_count": 9,
   "id": "322ee82e",
   "metadata": {},
   "outputs": [],
   "source": [
    "data = pd.read_csv('cleaned_data.csv')"
   ]
  },
  {
   "cell_type": "code",
   "execution_count": 11,
   "id": "3434455f",
   "metadata": {},
   "outputs": [
    {
     "name": "stdout",
     "output_type": "stream",
     "text": [
      "<class 'pandas.core.frame.DataFrame'>\n",
      "RangeIndex: 18207 entries, 0 to 18206\n",
      "Data columns (total 90 columns):\n",
      " #   Column                    Non-Null Count  Dtype  \n",
      "---  ------                    --------------  -----  \n",
      " 0   Unnamed: 0                18207 non-null  int64  \n",
      " 1   Unnamed: 0.1              18207 non-null  int64  \n",
      " 2   ID                        18207 non-null  int64  \n",
      " 3   Name                      18207 non-null  object \n",
      " 4   Age                       18207 non-null  int64  \n",
      " 5   Photo                     18207 non-null  object \n",
      " 6   Nationality               18207 non-null  object \n",
      " 7   Flag                      18207 non-null  object \n",
      " 8   Overall                   18207 non-null  int64  \n",
      " 9   Potential                 18207 non-null  int64  \n",
      " 10  Club                      18207 non-null  object \n",
      " 11  Club Logo                 18207 non-null  object \n",
      " 12  Value                     18207 non-null  object \n",
      " 13  Wage                      18207 non-null  object \n",
      " 14  Special                   18207 non-null  int64  \n",
      " 15  Preferred Foot            18207 non-null  object \n",
      " 16  International Reputation  18207 non-null  float64\n",
      " 17  Weak Foot                 18207 non-null  float64\n",
      " 18  Skill Moves               18207 non-null  float64\n",
      " 19  Work Rate                 18207 non-null  object \n",
      " 20  Body Type                 18207 non-null  object \n",
      " 21  Real Face                 18207 non-null  object \n",
      " 22  Position                  18207 non-null  object \n",
      " 23  Jersey Number             18207 non-null  float64\n",
      " 24  Joined                    18207 non-null  object \n",
      " 25  Loaned From               18207 non-null  object \n",
      " 26  Contract Valid Until      18207 non-null  object \n",
      " 27  Height                    18207 non-null  object \n",
      " 28  Weight                    18207 non-null  object \n",
      " 29  LS                        18207 non-null  object \n",
      " 30  ST                        18207 non-null  object \n",
      " 31  RS                        18207 non-null  object \n",
      " 32  LW                        18207 non-null  object \n",
      " 33  LF                        18207 non-null  object \n",
      " 34  CF                        18207 non-null  object \n",
      " 35  RF                        18207 non-null  object \n",
      " 36  RW                        18207 non-null  object \n",
      " 37  LAM                       18207 non-null  object \n",
      " 38  CAM                       18207 non-null  object \n",
      " 39  RAM                       18207 non-null  object \n",
      " 40  LM                        18207 non-null  object \n",
      " 41  LCM                       18207 non-null  object \n",
      " 42  CM                        18207 non-null  object \n",
      " 43  RCM                       18207 non-null  object \n",
      " 44  RM                        18207 non-null  object \n",
      " 45  LWB                       18207 non-null  object \n",
      " 46  LDM                       18207 non-null  object \n",
      " 47  CDM                       18207 non-null  object \n",
      " 48  RDM                       18207 non-null  object \n",
      " 49  RWB                       18207 non-null  object \n",
      " 50  LB                        18207 non-null  object \n",
      " 51  LCB                       18207 non-null  object \n",
      " 52  CB                        18207 non-null  object \n",
      " 53  RCB                       18207 non-null  object \n",
      " 54  RB                        18207 non-null  object \n",
      " 55  Crossing                  18207 non-null  float64\n",
      " 56  Finishing                 18207 non-null  float64\n",
      " 57  HeadingAccuracy           18207 non-null  float64\n",
      " 58  ShortPassing              18207 non-null  float64\n",
      " 59  Volleys                   18207 non-null  float64\n",
      " 60  Dribbling                 18207 non-null  float64\n",
      " 61  Curve                     18207 non-null  float64\n",
      " 62  FKAccuracy                18207 non-null  float64\n",
      " 63  LongPassing               18207 non-null  float64\n",
      " 64  BallControl               18207 non-null  float64\n",
      " 65  Acceleration              18207 non-null  float64\n",
      " 66  SprintSpeed               18207 non-null  float64\n",
      " 67  Agility                   18207 non-null  float64\n",
      " 68  Reactions                 18207 non-null  float64\n",
      " 69  Balance                   18207 non-null  float64\n",
      " 70  ShotPower                 18207 non-null  float64\n",
      " 71  Jumping                   18207 non-null  float64\n",
      " 72  Stamina                   18207 non-null  float64\n",
      " 73  Strength                  18207 non-null  float64\n",
      " 74  LongShots                 18207 non-null  float64\n",
      " 75  Aggression                18207 non-null  float64\n",
      " 76  Interceptions             18207 non-null  float64\n",
      " 77  Positioning               18207 non-null  float64\n",
      " 78  Vision                    18207 non-null  float64\n",
      " 79  Penalties                 18207 non-null  float64\n",
      " 80  Composure                 18207 non-null  float64\n",
      " 81  Marking                   18207 non-null  float64\n",
      " 82  StandingTackle            18207 non-null  float64\n",
      " 83  SlidingTackle             18207 non-null  float64\n",
      " 84  GKDiving                  18207 non-null  float64\n",
      " 85  GKHandling                18207 non-null  float64\n",
      " 86  GKKicking                 18207 non-null  float64\n",
      " 87  GKPositioning             18207 non-null  float64\n",
      " 88  GKReflexes                18207 non-null  float64\n",
      " 89  Release Clause            18207 non-null  object \n",
      "dtypes: float64(38), int64(7), object(45)\n",
      "memory usage: 12.5+ MB\n"
     ]
    }
   ],
   "source": [
    "data.info()"
   ]
  },
  {
   "cell_type": "code",
   "execution_count": 12,
   "id": "8a66d157",
   "metadata": {},
   "outputs": [
    {
     "data": {
      "text/plain": [
       "<pandas.core.groupby.generic.DataFrameGroupBy object at 0x7f97b87d1550>"
      ]
     },
     "execution_count": 12,
     "metadata": {},
     "output_type": "execute_result"
    }
   ],
   "source": [
    "data.groupby(['Club'])"
   ]
  }
 ],
 "metadata": {
  "kernelspec": {
   "display_name": "Python 3",
   "language": "python",
   "name": "python3"
  },
  "language_info": {
   "codemirror_mode": {
    "name": "ipython",
    "version": 3
   },
   "file_extension": ".py",
   "mimetype": "text/x-python",
   "name": "python",
   "nbconvert_exporter": "python",
   "pygments_lexer": "ipython3",
   "version": "3.8.8"
  }
 },
 "nbformat": 4,
 "nbformat_minor": 5
}
